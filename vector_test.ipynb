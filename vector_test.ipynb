{
 "cells": [
  {
   "cell_type": "code",
   "execution_count": 1,
   "id": "a5d18064-3771-45ca-b946-28281df7d471",
   "metadata": {},
   "outputs": [
    {
     "name": "stdout",
     "output_type": "stream",
     "text": [
      "pygame 2.5.2 (SDL 2.28.2, Python 3.9.12)\n",
      "Hello from the pygame community. https://www.pygame.org/contribute.html\n"
     ]
    }
   ],
   "source": [
    "import torch\n",
    "import timeit\n",
    "import pygame\n",
    "import gymnasium as gym"
   ]
  },
  {
   "cell_type": "code",
   "execution_count": 2,
   "id": "90e32a6e-60c3-4860-bba1-89ba3c64b509",
   "metadata": {},
   "outputs": [],
   "source": [
    "from gymnasium.experimental.vector import VectorEnv\n",
    "from gymnasium.vector.utils import batch_space"
   ]
  },
  {
   "cell_type": "markdown",
   "id": "54b35e5f-7b7d-4e21-8595-29f5725f20f5",
   "metadata": {},
   "source": [
    "## Env"
   ]
  },
  {
   "cell_type": "code",
   "execution_count": 3,
   "id": "a33eb3af-86d4-489e-87d3-96aff1b17004",
   "metadata": {},
   "outputs": [],
   "source": [
    "class tenv(VectorEnv):\n",
    "    def __init__(self,\n",
    "                 num_envs: int = 2,\n",
    "                 max_episode_steps = 20):\n",
    "        super().__init__()\n",
    "        self.num_envs = num_envs\n",
    "        self.max_episode_steps = max_episode_steps\n",
    "        self.state = None\n",
    "        \n",
    "\n",
    "    def step(self, action):\n",
    "        terminated = self.state==action\n",
    "        reward = torch.zeros((self.num_envs,1))+terminated\n",
    "\n",
    "        if any(terminated):\n",
    "            self.state = torch.where(terminated,\n",
    "                                     torch.randint(10, size=(1,1)).float(),\n",
    "                                     self.state)\n",
    "        return self.state, reward, terminated, None, {}\n",
    "\n",
    "    def reset(self):\n",
    "        self.state = torch.randint(10,\n",
    "                                   size=(self.num_envs,1)).float()\n",
    "        return self.state, {}"
   ]
  },
  {
   "cell_type": "code",
   "execution_count": 4,
   "id": "5b56ac67-d734-4abb-bf5c-d895096cc4e6",
   "metadata": {},
   "outputs": [],
   "source": [
    "num_envs=2\n",
    "env = tenv(num_envs=num_envs)"
   ]
  },
  {
   "cell_type": "code",
   "execution_count": 5,
   "id": "1b12e91d-8e74-44b9-875c-2402fcede3f5",
   "metadata": {},
   "outputs": [
    {
     "data": {
      "text/plain": [
       "(tensor([[2.],\n",
       "         [1.]]),\n",
       " {})"
      ]
     },
     "execution_count": 5,
     "metadata": {},
     "output_type": "execute_result"
    }
   ],
   "source": [
    "env.reset()"
   ]
  },
  {
   "cell_type": "code",
   "execution_count": 6,
   "id": "443c1453-ab67-4b3e-a3d6-21a825e9708d",
   "metadata": {},
   "outputs": [
    {
     "name": "stdout",
     "output_type": "stream",
     "text": [
      "tensor([[7],\n",
      "        [3]])\n",
      "(tensor([[2.],\n",
      "        [1.]]), tensor([[0.],\n",
      "        [0.]]), tensor([[False],\n",
      "        [False]]), None, {})\n"
     ]
    }
   ],
   "source": [
    "action=torch.randint(10, size=(num_envs,1))\n",
    "print(action)\n",
    "step_out=env.step(action)\n",
    "print(step_out)"
   ]
  },
  {
   "cell_type": "markdown",
   "id": "4b69a073-c3ad-459e-bd14-a25b4e2a4257",
   "metadata": {
    "jp-MarkdownHeadingCollapsed": true
   },
   "source": [
    "#### Env Tensor Testing"
   ]
  },
  {
   "cell_type": "code",
   "execution_count": null,
   "id": "ea7c6a35-3a2f-4502-add1-9bc28ed7bf2c",
   "metadata": {},
   "outputs": [],
   "source": []
  },
  {
   "cell_type": "code",
   "execution_count": null,
   "id": "2ce8b730-9a42-4864-a23c-32e29d6222fd",
   "metadata": {},
   "outputs": [],
   "source": []
  },
  {
   "cell_type": "code",
   "execution_count": 114,
   "id": "994d792e-795c-4613-b4b9-c0fb2af95725",
   "metadata": {},
   "outputs": [],
   "source": [
    "state = torch.randint(10, size=(num_envs,1))"
   ]
  },
  {
   "cell_type": "code",
   "execution_count": 115,
   "id": "fb1ddb3c-e05b-480c-9036-7226dc5ebe83",
   "metadata": {},
   "outputs": [],
   "source": [
    "dones=state==state"
   ]
  },
  {
   "cell_type": "code",
   "execution_count": 116,
   "id": "e77d1f17-1f8d-480d-b396-68748415e28f",
   "metadata": {},
   "outputs": [
    {
     "data": {
      "text/plain": [
       "tensor([[True],\n",
       "        [True]])"
      ]
     },
     "execution_count": 116,
     "metadata": {},
     "output_type": "execute_result"
    }
   ],
   "source": [
    "dones"
   ]
  },
  {
   "cell_type": "code",
   "execution_count": 117,
   "id": "db9b32ea-29b2-4b55-b5b5-e9bfd985b1f7",
   "metadata": {},
   "outputs": [
    {
     "data": {
      "text/plain": [
       "tensor(2)"
      ]
     },
     "execution_count": 117,
     "metadata": {},
     "output_type": "execute_result"
    }
   ],
   "source": [
    "dones.sum()"
   ]
  },
  {
   "cell_type": "code",
   "execution_count": 118,
   "id": "0ec36702-481a-427f-ba90-95133dd0b401",
   "metadata": {},
   "outputs": [
    {
     "ename": "RuntimeError",
     "evalue": "shape mismatch: value tensor of shape [2, 1] cannot be broadcast to indexing result of shape [2]",
     "output_type": "error",
     "traceback": [
      "\u001b[0;31m---------------------------------------------------------------------------\u001b[0m",
      "\u001b[0;31mRuntimeError\u001b[0m                              Traceback (most recent call last)",
      "Cell \u001b[0;32mIn[118], line 1\u001b[0m\n\u001b[0;32m----> 1\u001b[0m \u001b[43mstate\u001b[49m\u001b[43m[\u001b[49m\u001b[43mdones\u001b[49m\u001b[43m]\u001b[49m \u001b[38;5;241m=\u001b[39m torch\u001b[38;5;241m.\u001b[39mrandint(\u001b[38;5;241m10\u001b[39m, size\u001b[38;5;241m=\u001b[39m(dones\u001b[38;5;241m.\u001b[39msum(),\u001b[38;5;241m1\u001b[39m))\n",
      "\u001b[0;31mRuntimeError\u001b[0m: shape mismatch: value tensor of shape [2, 1] cannot be broadcast to indexing result of shape [2]"
     ]
    }
   ],
   "source": [
    "state[dones] = torch.randint(10, size=(dones.sum(),1))"
   ]
  },
  {
   "cell_type": "code",
   "execution_count": 143,
   "id": "7dffa033-822c-4675-8ee1-d6ab8d3d2468",
   "metadata": {},
   "outputs": [
    {
     "data": {
      "text/plain": [
       "tensor([[6],\n",
       "        [7]])"
      ]
     },
     "execution_count": 143,
     "metadata": {},
     "output_type": "execute_result"
    }
   ],
   "source": [
    "torch.where(done, torch.randint(10, size=(1,1)), state)"
   ]
  },
  {
   "cell_type": "code",
   "execution_count": 144,
   "id": "7f11a1da-0e77-413c-9e77-d9cd0fea71f8",
   "metadata": {},
   "outputs": [
    {
     "data": {
      "text/plain": [
       "tensor([[6],\n",
       "        [7]])"
      ]
     },
     "execution_count": 144,
     "metadata": {},
     "output_type": "execute_result"
    }
   ],
   "source": [
    "state"
   ]
  },
  {
   "cell_type": "code",
   "execution_count": 120,
   "id": "bb64abc7-e670-45f3-881e-d1a4e7de6ec3",
   "metadata": {},
   "outputs": [
    {
     "data": {
      "text/plain": [
       "tensor([6, 7])"
      ]
     },
     "execution_count": 120,
     "metadata": {},
     "output_type": "execute_result"
    }
   ],
   "source": [
    "state[dones]"
   ]
  },
  {
   "cell_type": "code",
   "execution_count": 113,
   "id": "8530ef62-7072-491a-8487-d28dd3d6f055",
   "metadata": {},
   "outputs": [
    {
     "data": {
      "text/plain": [
       "tensor([[3, 3],\n",
       "        [4, 6]])"
      ]
     },
     "execution_count": 113,
     "metadata": {},
     "output_type": "execute_result"
    }
   ],
   "source": [
    "state"
   ]
  },
  {
   "cell_type": "markdown",
   "id": "6bee7e17-a929-41a8-ad30-36faf0a95dbf",
   "metadata": {},
   "source": [
    "## Network"
   ]
  },
  {
   "cell_type": "code",
   "execution_count": 158,
   "id": "2e9a6805-0178-463f-b39b-9eabb5f14b32",
   "metadata": {},
   "outputs": [],
   "source": [
    "import torch.nn as nn\n",
    "import torch.nn.functional as F\n",
    "\n",
    "class sim_net(nn.Module):\n",
    "    def __init__(self):\n",
    "        super().__init__()\n",
    "        self.lin1 = nn.Linear(1,10)\n",
    "        self.lin2 = nn.Linear(10,10)\n",
    "        self.lin3 = nn.Linear(10,1)\n",
    "\n",
    "    def forward(self, input):\n",
    "        o1 = self.lin1(input)\n",
    "        o2 = self.lin2(o1)\n",
    "        return self.lin3(o2)\n",
    "\n",
    "model = sim_net()"
   ]
  },
  {
   "cell_type": "code",
   "execution_count": 159,
   "id": "2a52a771-6062-4171-8a3e-935b9208499c",
   "metadata": {},
   "outputs": [],
   "source": [
    "loss_fn = torch.nn.MSELoss()\n",
    "optimizer = torch.optim.Adam(model.parameters(), lr=0.00001)\n",
    "\n",
    "num_envs=100\n",
    "env = tenv(num_envs=num_envs)"
   ]
  },
  {
   "cell_type": "code",
   "execution_count": 160,
   "id": "5b3f2803-202d-41cc-87f6-4db83036e0c3",
   "metadata": {},
   "outputs": [],
   "source": [
    "obs, log = env.reset()\n",
    "loss_arr=[]"
   ]
  },
  {
   "cell_type": "code",
   "execution_count": 170,
   "id": "fc2d033b-8699-4753-8ec7-4cdebc34c9b0",
   "metadata": {},
   "outputs": [
    {
     "data": {
      "text/plain": [
       "(0.0, 100.0)"
      ]
     },
     "execution_count": 170,
     "metadata": {},
     "output_type": "execute_result"
    },
    {
     "data": {
      "image/png": "[encoded data removed]",
      "text/plain": [
       "<Figure size 640x480 with 1 Axes>"
      ]
     },
     "metadata": {},
     "output_type": "display_data"
    }
   ],
   "source": [
    "for _ in range(5000):\n",
    "    action=model(obs)*10\n",
    "    raction=torch.round(action)\n",
    "    #print(\"action\", action)\n",
    "    #print(\"raction\", raction)\n",
    "    obs, reward, terminated, _, info =env.step(raction)\n",
    "    #print(obs, reward, terminated, _, info, sep=\"\\n\")\n",
    "    \n",
    "    loss = loss_fn(action, obs)\n",
    "    loss_arr.append(loss.detach().cpu())\n",
    "    #print(\"loss:\", loss)\n",
    "    loss.backward()\n",
    "    optimizer.step()\n",
    "    \n",
    "import matplotlib.pyplot as plt\n",
    "plt.plot(loss_arr)\n",
    "plt.ylim(0,100)"
   ]
  },
  {
   "cell_type": "code",
   "execution_count": null,
   "id": "80199ac1-11b7-42fa-95f3-215650d0c0db",
   "metadata": {},
   "outputs": [],
   "source": []
  }
 ],
 "metadata": {
  "kernelspec": {
   "display_name": "Python 3 (ipykernel)",
   "language": "python",
   "name": "python3"
  },
  "language_info": {
   "codemirror_mode": {
    "name": "ipython",
    "version": 3
   },
   "file_extension": ".py",
   "mimetype": "text/x-python",
   "name": "python",
   "nbconvert_exporter": "python",
   "pygments_lexer": "ipython3",
   "version": "3.9.12"
  }
 },
 "nbformat": 4,
 "nbformat_minor": 5
}
